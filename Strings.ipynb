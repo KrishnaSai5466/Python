{
 "cells": [
  {
   "cell_type": "code",
   "execution_count": 9,
   "id": "d75a6024-d967-4f25-846b-80e87e5f38ba",
   "metadata": {},
   "outputs": [
    {
     "data": {
      "text/plain": [
       "'supyter'"
      ]
     },
     "execution_count": 9,
     "metadata": {},
     "output_type": "execute_result"
    }
   ],
   "source": [
    "s=\"supyter\"\n",
    "s"
   ]
  },
  {
   "cell_type": "code",
   "execution_count": 11,
   "id": "fa7bfa0f-5394-4a8b-a0ea-b49454a11292",
   "metadata": {},
   "outputs": [
    {
     "data": {
      "text/plain": [
       "'Supyter'"
      ]
     },
     "execution_count": 11,
     "metadata": {},
     "output_type": "execute_result"
    }
   ],
   "source": [
    "s.capitalize()\n"
   ]
  },
  {
   "cell_type": "code",
   "execution_count": 13,
   "id": "6982e083-4d4e-4ca9-9472-742e794a03f7",
   "metadata": {},
   "outputs": [
    {
     "data": {
      "text/plain": [
       "'supyter'"
      ]
     },
     "execution_count": 13,
     "metadata": {},
     "output_type": "execute_result"
    }
   ],
   "source": [
    "s.lower()"
   ]
  },
  {
   "cell_type": "code",
   "execution_count": 15,
   "id": "c7f1388b-146a-44b6-b7df-bbec91b3c184",
   "metadata": {},
   "outputs": [
    {
     "data": {
      "text/plain": [
       "'SUPYTER'"
      ]
     },
     "execution_count": 15,
     "metadata": {},
     "output_type": "execute_result"
    }
   ],
   "source": [
    "s.swapcase()"
   ]
  },
  {
   "cell_type": "code",
   "execution_count": 17,
   "id": "58d631c6-46a8-4254-826e-5e78ef843522",
   "metadata": {},
   "outputs": [
    {
     "data": {
      "text/plain": [
       "'Supyter'"
      ]
     },
     "execution_count": 17,
     "metadata": {},
     "output_type": "execute_result"
    }
   ],
   "source": [
    "s.title()"
   ]
  },
  {
   "cell_type": "code",
   "execution_count": 19,
   "id": "c2d1fc3e-a983-43ec-a4ca-fcd361021b95",
   "metadata": {},
   "outputs": [
    {
     "data": {
      "text/plain": [
       "'Welcome To The World'"
      ]
     },
     "execution_count": 19,
     "metadata": {},
     "output_type": "execute_result"
    }
   ],
   "source": [
    "s='welcome to the world'\n",
    "s.title()"
   ]
  },
  {
   "cell_type": "code",
   "execution_count": 21,
   "id": "0d1e2250-e794-43b2-acab-ffc5b904d7e2",
   "metadata": {},
   "outputs": [
    {
     "data": {
      "text/plain": [
       "'WELCOME TO THE WORLD'"
      ]
     },
     "execution_count": 21,
     "metadata": {},
     "output_type": "execute_result"
    }
   ],
   "source": [
    "s.upper()"
   ]
  },
  {
   "cell_type": "code",
   "execution_count": 25,
   "id": "b524051a-c0f6-426f-9b89-726123ce3d78",
   "metadata": {},
   "outputs": [
    {
     "data": {
      "text/plain": [
       "True"
      ]
     },
     "execution_count": 25,
     "metadata": {},
     "output_type": "execute_result"
    }
   ],
   "source": [
    "s2='world'\n",
    "s2 in s"
   ]
  },
  {
   "cell_type": "code",
   "execution_count": 27,
   "id": "fbd6a641-e524-4e6d-998a-6ecf357fda30",
   "metadata": {},
   "outputs": [
    {
     "data": {
      "text/plain": [
       "False"
      ]
     },
     "execution_count": 27,
     "metadata": {},
     "output_type": "execute_result"
    }
   ],
   "source": [
    "s in s2"
   ]
  },
  {
   "cell_type": "code",
   "execution_count": 29,
   "id": "dae55a5d-1938-4e43-962a-24edf0bcbc36",
   "metadata": {},
   "outputs": [
    {
     "data": {
      "text/plain": [
       "'welcome to the world'"
      ]
     },
     "execution_count": 29,
     "metadata": {},
     "output_type": "execute_result"
    }
   ],
   "source": [
    "s"
   ]
  },
  {
   "cell_type": "code",
   "execution_count": 31,
   "id": "1e91bc8d-1abc-48e5-8056-f37cc1e51094",
   "metadata": {},
   "outputs": [
    {
     "data": {
      "text/plain": [
       "'welcome to the worldworld'"
      ]
     },
     "execution_count": 31,
     "metadata": {},
     "output_type": "execute_result"
    }
   ],
   "source": [
    "s+s2"
   ]
  },
  {
   "cell_type": "code",
   "execution_count": 33,
   "id": "9f7f0ef0-389e-4d4e-ba34-0400e600af69",
   "metadata": {},
   "outputs": [
    {
     "data": {
      "text/plain": [
       "'welcome to the world world'"
      ]
     },
     "execution_count": 33,
     "metadata": {},
     "output_type": "execute_result"
    }
   ],
   "source": [
    "s+' ' +s2"
   ]
  },
  {
   "cell_type": "code",
   "execution_count": 35,
   "id": "c51ab06c-ae13-4d2f-8168-f9dee0740c88",
   "metadata": {},
   "outputs": [
    {
     "data": {
      "text/plain": [
       "20"
      ]
     },
     "execution_count": 35,
     "metadata": {},
     "output_type": "execute_result"
    }
   ],
   "source": [
    "len(s)"
   ]
  },
  {
   "cell_type": "code",
   "execution_count": 37,
   "id": "f6d6826c-6374-4f1c-9b64-d9f211ca3a4b",
   "metadata": {},
   "outputs": [
    {
     "data": {
      "text/plain": [
       "5"
      ]
     },
     "execution_count": 37,
     "metadata": {},
     "output_type": "execute_result"
    }
   ],
   "source": [
    "len(s2)"
   ]
  },
  {
   "cell_type": "code",
   "execution_count": 39,
   "id": "d233364f-3aef-4f4b-9306-5edceced92f5",
   "metadata": {},
   "outputs": [
    {
     "data": {
      "text/plain": [
       "' '"
      ]
     },
     "execution_count": 39,
     "metadata": {},
     "output_type": "execute_result"
    }
   ],
   "source": [
    "min(s)"
   ]
  },
  {
   "cell_type": "code",
   "execution_count": 41,
   "id": "667af3dd-0805-43bf-8074-c1cd274303eb",
   "metadata": {},
   "outputs": [
    {
     "data": {
      "text/plain": [
       "'w'"
      ]
     },
     "execution_count": 41,
     "metadata": {},
     "output_type": "execute_result"
    }
   ],
   "source": [
    "max(s)"
   ]
  },
  {
   "cell_type": "code",
   "execution_count": 43,
   "id": "f40f8cb6-1cf9-4b51-9682-5644b8defd27",
   "metadata": {},
   "outputs": [
    {
     "data": {
      "text/plain": [
       "'d'"
      ]
     },
     "execution_count": 43,
     "metadata": {},
     "output_type": "execute_result"
    }
   ],
   "source": [
    "min(s2)"
   ]
  },
  {
   "cell_type": "code",
   "execution_count": 45,
   "id": "5967c7ed-9c51-4a89-84c2-fe9e7df04186",
   "metadata": {},
   "outputs": [
    {
     "data": {
      "text/plain": [
       "'w'"
      ]
     },
     "execution_count": 45,
     "metadata": {},
     "output_type": "execute_result"
    }
   ],
   "source": [
    "max(s2)"
   ]
  },
  {
   "cell_type": "code",
   "execution_count": 47,
   "id": "9fe61ca0-1786-4bd3-9177-a79229e1e329",
   "metadata": {},
   "outputs": [
    {
     "data": {
      "text/plain": [
       "' '"
      ]
     },
     "execution_count": 47,
     "metadata": {},
     "output_type": "execute_result"
    }
   ],
   "source": [
    "min(s)"
   ]
  },
  {
   "cell_type": "code",
   "execution_count": 49,
   "id": "34d653fd-9cb6-49f3-85b5-ccf036461df9",
   "metadata": {},
   "outputs": [
    {
     "data": {
      "text/plain": [
       "'welcome to the world'"
      ]
     },
     "execution_count": 49,
     "metadata": {},
     "output_type": "execute_result"
    }
   ],
   "source": [
    "s"
   ]
  },
  {
   "cell_type": "code",
   "execution_count": 57,
   "id": "fdfc1ea5-4784-4c2d-808b-f7d1087a5ff5",
   "metadata": {},
   "outputs": [
    {
     "data": {
      "text/plain": [
       "False"
      ]
     },
     "execution_count": 57,
     "metadata": {},
     "output_type": "execute_result"
    }
   ],
   "source": [
    "s2 not in s"
   ]
  },
  {
   "cell_type": "code",
   "execution_count": 59,
   "id": "6e39228c-31e0-4843-914e-8664e7219666",
   "metadata": {},
   "outputs": [
    {
     "data": {
      "text/plain": [
       "'worldworldworldworldworld'"
      ]
     },
     "execution_count": 59,
     "metadata": {},
     "output_type": "execute_result"
    }
   ],
   "source": [
    "s2*5"
   ]
  },
  {
   "cell_type": "code",
   "execution_count": 61,
   "id": "99cfea1e-b719-4df3-a81c-f7900ecb50e6",
   "metadata": {},
   "outputs": [
    {
     "data": {
      "text/plain": [
       "'welcome to the worldwelcome to the worldwelcome to the worldwelcome to the world'"
      ]
     },
     "execution_count": 61,
     "metadata": {},
     "output_type": "execute_result"
    }
   ],
   "source": [
    "s*4"
   ]
  },
  {
   "cell_type": "code",
   "execution_count": 63,
   "id": "2a16374f-1010-4646-99bd-7bcce1a3f8b9",
   "metadata": {},
   "outputs": [
    {
     "data": {
      "text/plain": [
       "'m'"
      ]
     },
     "execution_count": 63,
     "metadata": {},
     "output_type": "execute_result"
    }
   ],
   "source": [
    "s[5]"
   ]
  },
  {
   "cell_type": "code",
   "execution_count": 65,
   "id": "e2ef9fd2-6028-4794-8e4b-0c9b408ceda2",
   "metadata": {},
   "outputs": [
    {
     "data": {
      "text/plain": [
       "'ecm o'"
      ]
     },
     "execution_count": 65,
     "metadata": {},
     "output_type": "execute_result"
    }
   ],
   "source": [
    "s[1:10:2]"
   ]
  },
  {
   "cell_type": "code",
   "execution_count": 67,
   "id": "23285393-d9de-4932-9fa7-c9f25ac9561a",
   "metadata": {},
   "outputs": [
    {
     "data": {
      "text/plain": [
       "1"
      ]
     },
     "execution_count": 67,
     "metadata": {},
     "output_type": "execute_result"
    }
   ],
   "source": [
    "s.count(s2)"
   ]
  },
  {
   "cell_type": "code",
   "execution_count": 69,
   "id": "eb65bd43-4b66-42f7-9c3a-b157e1e4e287",
   "metadata": {},
   "outputs": [
    {
     "data": {
      "text/plain": [
       "0"
      ]
     },
     "execution_count": 69,
     "metadata": {},
     "output_type": "execute_result"
    }
   ],
   "source": [
    "s2.count(s)"
   ]
  },
  {
   "cell_type": "code",
   "execution_count": 71,
   "id": "09c35f79-52f1-4140-aef0-c18870785393",
   "metadata": {},
   "outputs": [
    {
     "ename": "NameError",
     "evalue": "name 'width' is not defined",
     "output_type": "error",
     "traceback": [
      "\u001b[1;31m---------------------------------------------------------------------------\u001b[0m",
      "\u001b[1;31mNameError\u001b[0m                                 Traceback (most recent call last)",
      "Cell \u001b[1;32mIn[71], line 1\u001b[0m\n\u001b[1;32m----> 1\u001b[0m s2\u001b[38;5;241m.\u001b[39mcenter(width)\n",
      "\u001b[1;31mNameError\u001b[0m: name 'width' is not defined"
     ]
    }
   ],
   "source": [
    "s2.center(width)"
   ]
  },
  {
   "cell_type": "code",
   "execution_count": 75,
   "id": "df69f04e-1d1e-4a59-905f-625a70d70b34",
   "metadata": {},
   "outputs": [
    {
     "data": {
      "text/plain": [
       "'  world   '"
      ]
     },
     "execution_count": 75,
     "metadata": {},
     "output_type": "execute_result"
    }
   ],
   "source": [
    "s2.center(10)"
   ]
  },
  {
   "cell_type": "code",
   "execution_count": 77,
   "id": "1c954d5b-9d40-4419-9d64-c61fca4ac9bd",
   "metadata": {},
   "outputs": [
    {
     "data": {
      "text/plain": [
       "False"
      ]
     },
     "execution_count": 77,
     "metadata": {},
     "output_type": "execute_result"
    }
   ],
   "source": [
    "s.isspace()"
   ]
  },
  {
   "cell_type": "code",
   "execution_count": 79,
   "id": "6338543f-0c92-459a-a020-895fa921e24f",
   "metadata": {},
   "outputs": [],
   "source": [
    "s3='     '\n"
   ]
  },
  {
   "cell_type": "code",
   "execution_count": 81,
   "id": "73331be0-12a9-4d1e-b371-7f479612c4db",
   "metadata": {},
   "outputs": [
    {
     "data": {
      "text/plain": [
       "True"
      ]
     },
     "execution_count": 81,
     "metadata": {},
     "output_type": "execute_result"
    }
   ],
   "source": [
    "s3.isspace()"
   ]
  },
  {
   "cell_type": "code",
   "execution_count": 83,
   "id": "4d76b89e-c453-41fe-8343-de02ac815dc1",
   "metadata": {},
   "outputs": [
    {
     "data": {
      "text/plain": [
       "'world     '"
      ]
     },
     "execution_count": 83,
     "metadata": {},
     "output_type": "execute_result"
    }
   ],
   "source": [
    "s2.ljust(10)"
   ]
  },
  {
   "cell_type": "code",
   "execution_count": 85,
   "id": "f0565fe2-2965-4166-80af-b4abd731803a",
   "metadata": {},
   "outputs": [
    {
     "data": {
      "text/plain": [
       "'     world'"
      ]
     },
     "execution_count": 85,
     "metadata": {},
     "output_type": "execute_result"
    }
   ],
   "source": [
    "s2.rjust(10)"
   ]
  },
  {
   "cell_type": "code",
   "execution_count": 87,
   "id": "198bbaec-dd6f-47bb-bc2f-ab7240fd7513",
   "metadata": {},
   "outputs": [
    {
     "data": {
      "text/plain": [
       "'world'"
      ]
     },
     "execution_count": 87,
     "metadata": {},
     "output_type": "execute_result"
    }
   ],
   "source": [
    "s2"
   ]
  },
  {
   "cell_type": "code",
   "execution_count": 89,
   "id": "d1931aa6-1f06-436d-b6da-66b8bb4ddbb2",
   "metadata": {},
   "outputs": [
    {
     "data": {
      "text/plain": [
       "'   Ryuu '"
      ]
     },
     "execution_count": 89,
     "metadata": {},
     "output_type": "execute_result"
    }
   ],
   "source": [
    "s3='   Ryuu '\n",
    "s3"
   ]
  },
  {
   "cell_type": "code",
   "execution_count": 91,
   "id": "8f173b66-302c-4fb7-9961-55672bafaed9",
   "metadata": {},
   "outputs": [
    {
     "data": {
      "text/plain": [
       "'Ryuu'"
      ]
     },
     "execution_count": 91,
     "metadata": {},
     "output_type": "execute_result"
    }
   ],
   "source": [
    "s3.strip()"
   ]
  },
  {
   "cell_type": "code",
   "execution_count": 95,
   "id": "8af7700f-3358-42cb-971e-41fdbb7fcb8b",
   "metadata": {},
   "outputs": [
    {
     "ename": "ValueError",
     "evalue": "substring not found",
     "output_type": "error",
     "traceback": [
      "\u001b[1;31m---------------------------------------------------------------------------\u001b[0m",
      "\u001b[1;31mValueError\u001b[0m                                Traceback (most recent call last)",
      "Cell \u001b[1;32mIn[95], line 1\u001b[0m\n\u001b[1;32m----> 1\u001b[0m s\u001b[38;5;241m.\u001b[39mindex(s2,\u001b[38;5;241m0\u001b[39m,\u001b[38;5;241m10\u001b[39m)\n",
      "\u001b[1;31mValueError\u001b[0m: substring not found"
     ]
    }
   ],
   "source": [
    "s.index(s2,0,10)"
   ]
  },
  {
   "cell_type": "code",
   "execution_count": 97,
   "id": "3b352e59-b8ac-47b6-8bc5-07ea5b9115af",
   "metadata": {},
   "outputs": [
    {
     "data": {
      "text/plain": [
       "'welcome to the world'"
      ]
     },
     "execution_count": 97,
     "metadata": {},
     "output_type": "execute_result"
    }
   ],
   "source": [
    "s"
   ]
  },
  {
   "cell_type": "code",
   "execution_count": 99,
   "id": "1947c77b-d7dd-4d54-b53e-75a5dc3b654b",
   "metadata": {},
   "outputs": [
    {
     "data": {
      "text/plain": [
       "'world'"
      ]
     },
     "execution_count": 99,
     "metadata": {},
     "output_type": "execute_result"
    }
   ],
   "source": [
    "s2"
   ]
  },
  {
   "cell_type": "code",
   "execution_count": 101,
   "id": "330e8379-6f05-49e7-b8de-85432699d728",
   "metadata": {},
   "outputs": [
    {
     "data": {
      "text/plain": [
       "15"
      ]
     },
     "execution_count": 101,
     "metadata": {},
     "output_type": "execute_result"
    }
   ],
   "source": [
    "s.index(s2,0,20)"
   ]
  },
  {
   "cell_type": "code",
   "execution_count": 105,
   "id": "2f13fe85-9bf1-4f59-a79a-a8f4638dbb5b",
   "metadata": {},
   "outputs": [
    {
     "data": {
      "text/plain": [
       "15"
      ]
     },
     "execution_count": 105,
     "metadata": {},
     "output_type": "execute_result"
    }
   ],
   "source": [
    "s.find(s2)"
   ]
  },
  {
   "cell_type": "code",
   "execution_count": 107,
   "id": "a0046fd2-0b08-4a72-86b5-814e4b57ecbe",
   "metadata": {},
   "outputs": [
    {
     "data": {
      "text/plain": [
       "15"
      ]
     },
     "execution_count": 107,
     "metadata": {},
     "output_type": "execute_result"
    }
   ],
   "source": [
    "s.index(s2)"
   ]
  },
  {
   "cell_type": "code",
   "execution_count": 109,
   "id": "01a34423-6dc8-4f7f-852e-5f8f91613994",
   "metadata": {},
   "outputs": [
    {
     "ename": "ValueError",
     "evalue": "substring not found",
     "output_type": "error",
     "traceback": [
      "\u001b[1;31m---------------------------------------------------------------------------\u001b[0m",
      "\u001b[1;31mValueError\u001b[0m                                Traceback (most recent call last)",
      "Cell \u001b[1;32mIn[109], line 1\u001b[0m\n\u001b[1;32m----> 1\u001b[0m s2\u001b[38;5;241m.\u001b[39mindex(s)\n",
      "\u001b[1;31mValueError\u001b[0m: substring not found"
     ]
    }
   ],
   "source": [
    "s2.index(s)"
   ]
  },
  {
   "cell_type": "code",
   "execution_count": 111,
   "id": "428aaffb-52e6-4ae2-9e39-d8ba36d615e2",
   "metadata": {},
   "outputs": [
    {
     "data": {
      "text/plain": [
       "'welcome to the    Ryuu '"
      ]
     },
     "execution_count": 111,
     "metadata": {},
     "output_type": "execute_result"
    }
   ],
   "source": [
    "s.replace(s2,s3)"
   ]
  },
  {
   "cell_type": "code",
   "execution_count": 113,
   "id": "3a9fe3e0-11fc-4b06-8808-cec522da72bb",
   "metadata": {},
   "outputs": [
    {
     "data": {
      "text/plain": [
       "'welcome to the world'"
      ]
     },
     "execution_count": 113,
     "metadata": {},
     "output_type": "execute_result"
    }
   ],
   "source": [
    "s"
   ]
  },
  {
   "cell_type": "code",
   "execution_count": 115,
   "id": "a3b73a21-c953-45b7-8ac7-c3dfd99e40bc",
   "metadata": {},
   "outputs": [],
   "source": [
    "s=s.replace(s2,s3)"
   ]
  },
  {
   "cell_type": "code",
   "execution_count": 97,
   "id": "f62f46cc-4b86-4d72-824b-e320f9755831",
   "metadata": {},
   "outputs": [
    {
     "data": {
      "text/plain": [
       "'Hi Ryuu, Hi Akari'"
      ]
     },
     "execution_count": 97,
     "metadata": {},
     "output_type": "execute_result"
    }
   ],
   "source": [
    "s='Hello Ryuu, Hello Akari'\n",
    "s=s.replace('Hello','Hi', 2)\n",
    "s"
   ]
  },
  {
   "cell_type": "code",
   "execution_count": 83,
   "id": "0159ff10-f248-4761-98df-67e50d579ea2",
   "metadata": {},
   "outputs": [],
   "source": [
    "s=s.replace(s2,s3,3)"
   ]
  },
  {
   "cell_type": "code",
   "execution_count": 63,
   "id": "e31fcdf7-744c-4f98-ac6c-662f9311f159",
   "metadata": {},
   "outputs": [
    {
     "data": {
      "text/plain": [
       "'    Ryuu    '"
      ]
     },
     "execution_count": 63,
     "metadata": {},
     "output_type": "execute_result"
    }
   ],
   "source": [
    "s"
   ]
  },
  {
   "cell_type": "code",
   "execution_count": 119,
   "id": "fc6c6ae2-5e29-4a4c-9534-89c16894db1c",
   "metadata": {},
   "outputs": [
    {
     "data": {
      "text/plain": [
       "-1"
      ]
     },
     "execution_count": 119,
     "metadata": {},
     "output_type": "execute_result"
    }
   ],
   "source": [
    "s.rfind(s2)"
   ]
  },
  {
   "cell_type": "code",
   "execution_count": 121,
   "id": "94ae2057-0b0c-47f6-8958-2f4f9f4753ec",
   "metadata": {},
   "outputs": [
    {
     "ename": "ValueError",
     "evalue": "substring not found",
     "output_type": "error",
     "traceback": [
      "\u001b[1;31m---------------------------------------------------------------------------\u001b[0m",
      "\u001b[1;31mValueError\u001b[0m                                Traceback (most recent call last)",
      "Cell \u001b[1;32mIn[121], line 1\u001b[0m\n\u001b[1;32m----> 1\u001b[0m s\u001b[38;5;241m.\u001b[39mrindex(s2)\n",
      "\u001b[1;31mValueError\u001b[0m: substring not found"
     ]
    }
   ],
   "source": [
    "s.rindex(s2)"
   ]
  },
  {
   "cell_type": "code",
   "execution_count": 123,
   "id": "4c9df5ef-6c32-444a-ba70-3d52534f7f04",
   "metadata": {},
   "outputs": [
    {
     "data": {
      "text/plain": [
       "'welcome to the    ryuu '"
      ]
     },
     "execution_count": 123,
     "metadata": {},
     "output_type": "execute_result"
    }
   ],
   "source": [
    "s.casefold() #This Python string method is used to convert a string to a casefolded version, which is a more aggressive form of lowercase conversion"
   ]
  },
  {
   "cell_type": "code",
   "execution_count": 125,
   "id": "f4a536a3-fd1b-490d-8c31-4de2b9cf227d",
   "metadata": {},
   "outputs": [],
   "source": [
    "s4='Ak@R!'\n"
   ]
  },
  {
   "cell_type": "code",
   "execution_count": 127,
   "id": "d3aeed6a-e555-454b-bd00-1078e46e1dd8",
   "metadata": {},
   "outputs": [
    {
     "data": {
      "text/plain": [
       "'Ak@R!'"
      ]
     },
     "execution_count": 127,
     "metadata": {},
     "output_type": "execute_result"
    }
   ],
   "source": [
    "s4"
   ]
  },
  {
   "cell_type": "code",
   "execution_count": 129,
   "id": "13b01666-57c9-4ba5-b312-f47b64e1ede2",
   "metadata": {},
   "outputs": [
    {
     "data": {
      "text/plain": [
       "'ak@r!'"
      ]
     },
     "execution_count": 129,
     "metadata": {},
     "output_type": "execute_result"
    }
   ],
   "source": [
    "s4.casefold()"
   ]
  },
  {
   "cell_type": "code",
   "execution_count": 133,
   "id": "280f0b99-1916-4b48-9f92-c483f703e626",
   "metadata": {},
   "outputs": [
    {
     "data": {
      "text/plain": [
       "False"
      ]
     },
     "execution_count": 133,
     "metadata": {},
     "output_type": "execute_result"
    }
   ],
   "source": [
    "s4.islower()"
   ]
  },
  {
   "cell_type": "code",
   "execution_count": 135,
   "id": "7a6e6e10-65f1-4f0d-baee-eb72c22d2a48",
   "metadata": {},
   "outputs": [
    {
     "data": {
      "text/plain": [
       "False"
      ]
     },
     "execution_count": 135,
     "metadata": {},
     "output_type": "execute_result"
    }
   ],
   "source": [
    "s.islower()"
   ]
  },
  {
   "cell_type": "code",
   "execution_count": 137,
   "id": "d54469c4-f4fb-42cd-a51e-4db04f067799",
   "metadata": {},
   "outputs": [
    {
     "data": {
      "text/plain": [
       "True"
      ]
     },
     "execution_count": 137,
     "metadata": {},
     "output_type": "execute_result"
    }
   ],
   "source": [
    "s2.islower()"
   ]
  },
  {
   "cell_type": "code",
   "execution_count": 139,
   "id": "67161da9-5b55-46a2-980c-d2ebb3ab8934",
   "metadata": {},
   "outputs": [
    {
     "data": {
      "text/plain": [
       "'welcome to the    Ryuu '"
      ]
     },
     "execution_count": 139,
     "metadata": {},
     "output_type": "execute_result"
    }
   ],
   "source": [
    "s"
   ]
  },
  {
   "cell_type": "code",
   "execution_count": 141,
   "id": "61802fa3-7915-4876-94a7-654a5399b044",
   "metadata": {},
   "outputs": [
    {
     "data": {
      "text/plain": [
       "False"
      ]
     },
     "execution_count": 141,
     "metadata": {},
     "output_type": "execute_result"
    }
   ],
   "source": [
    "s.istitle()"
   ]
  },
  {
   "cell_type": "code",
   "execution_count": 147,
   "id": "68a75c99-85d4-4675-85da-7dcdfc0d2833",
   "metadata": {},
   "outputs": [],
   "source": [
    "s=s.title()"
   ]
  },
  {
   "cell_type": "code",
   "execution_count": 149,
   "id": "8445bd69-f68a-453e-b732-052f77b0d7a1",
   "metadata": {},
   "outputs": [
    {
     "data": {
      "text/plain": [
       "True"
      ]
     },
     "execution_count": 149,
     "metadata": {},
     "output_type": "execute_result"
    }
   ],
   "source": [
    "\n",
    "s.istitle()"
   ]
  },
  {
   "cell_type": "code",
   "execution_count": 159,
   "id": "65ccc2c9-e585-4a63-9cd9-b33bd9d4c405",
   "metadata": {},
   "outputs": [
    {
     "data": {
      "text/plain": [
       "True"
      ]
     },
     "execution_count": 159,
     "metadata": {},
     "output_type": "execute_result"
    }
   ],
   "source": [
    "s.isupper()"
   ]
  },
  {
   "cell_type": "code",
   "execution_count": 155,
   "id": "33885456-bb8b-4855-be4e-41f1fe473d93",
   "metadata": {},
   "outputs": [],
   "source": [
    "s=s.upper()"
   ]
  },
  {
   "cell_type": "code",
   "execution_count": 157,
   "id": "ba11c1e6-834a-4486-b9c5-3f0ca830dc49",
   "metadata": {},
   "outputs": [
    {
     "data": {
      "text/plain": [
       "True"
      ]
     },
     "execution_count": 157,
     "metadata": {},
     "output_type": "execute_result"
    }
   ],
   "source": [
    "s.isupper()"
   ]
  },
  {
   "cell_type": "code",
   "execution_count": 161,
   "id": "b084b6c9-533d-4a4a-9fb1-c28d998fe805",
   "metadata": {},
   "outputs": [
    {
     "data": {
      "text/plain": [
       "False"
      ]
     },
     "execution_count": 161,
     "metadata": {},
     "output_type": "execute_result"
    }
   ],
   "source": [
    "s.endswith(s2)"
   ]
  },
  {
   "cell_type": "code",
   "execution_count": 163,
   "id": "88ea1850-56fb-4a50-b748-b27c08613a62",
   "metadata": {},
   "outputs": [
    {
     "data": {
      "text/plain": [
       "False"
      ]
     },
     "execution_count": 163,
     "metadata": {},
     "output_type": "execute_result"
    }
   ],
   "source": [
    "s.endswith(s3)"
   ]
  },
  {
   "cell_type": "code",
   "execution_count": 165,
   "id": "5046ece7-9767-4f00-b332-f0624d3c62e2",
   "metadata": {},
   "outputs": [
    {
     "data": {
      "text/plain": [
       "False"
      ]
     },
     "execution_count": 165,
     "metadata": {},
     "output_type": "execute_result"
    }
   ],
   "source": [
    "s3 in s"
   ]
  },
  {
   "cell_type": "code",
   "execution_count": 169,
   "id": "d28ea79c-29c3-470d-87da-05677fe45737",
   "metadata": {},
   "outputs": [],
   "source": [
    "s=s.lower()"
   ]
  },
  {
   "cell_type": "code",
   "execution_count": 171,
   "id": "66ed6f4c-7f35-49da-92b1-223dc73fa4df",
   "metadata": {},
   "outputs": [
    {
     "data": {
      "text/plain": [
       "False"
      ]
     },
     "execution_count": 171,
     "metadata": {},
     "output_type": "execute_result"
    }
   ],
   "source": [
    "s3 in s"
   ]
  },
  {
   "cell_type": "code",
   "execution_count": 173,
   "id": "c7b05e88-0f9b-44fc-84ee-b391e50d5fba",
   "metadata": {},
   "outputs": [
    {
     "data": {
      "text/plain": [
       "'   Ryuu '"
      ]
     },
     "execution_count": 173,
     "metadata": {},
     "output_type": "execute_result"
    }
   ],
   "source": [
    "s3"
   ]
  },
  {
   "cell_type": "code",
   "execution_count": 175,
   "id": "16e00400-fb50-48f8-b28f-31c17696d109",
   "metadata": {},
   "outputs": [
    {
     "data": {
      "text/plain": [
       "'Welcome to the    ryuu '"
      ]
     },
     "execution_count": 175,
     "metadata": {},
     "output_type": "execute_result"
    }
   ],
   "source": [
    "s.capitalize()"
   ]
  },
  {
   "cell_type": "code",
   "execution_count": 177,
   "id": "424b1ffe-6407-46e9-9752-0361117902a1",
   "metadata": {},
   "outputs": [
    {
     "data": {
      "text/plain": [
       "False"
      ]
     },
     "execution_count": 177,
     "metadata": {},
     "output_type": "execute_result"
    }
   ],
   "source": [
    "s4.isalnum()"
   ]
  },
  {
   "cell_type": "code",
   "execution_count": 179,
   "id": "5ad39a00-4eb4-4572-9d65-6bceabe28dbf",
   "metadata": {},
   "outputs": [
    {
     "data": {
      "text/plain": [
       "True"
      ]
     },
     "execution_count": 179,
     "metadata": {},
     "output_type": "execute_result"
    }
   ],
   "source": [
    "s5='KA123'\n",
    "s5.isalnum()"
   ]
  },
  {
   "cell_type": "code",
   "execution_count": 181,
   "id": "1e4eadef-b8f3-4d6c-8ee5-3a6f2016a86d",
   "metadata": {},
   "outputs": [
    {
     "data": {
      "text/plain": [
       "False"
      ]
     },
     "execution_count": 181,
     "metadata": {},
     "output_type": "execute_result"
    }
   ],
   "source": [
    "s5.isalpha()"
   ]
  },
  {
   "cell_type": "code",
   "execution_count": 187,
   "id": "e93683cc-a8e6-4ede-93c9-a91a297b4caf",
   "metadata": {},
   "outputs": [
    {
     "data": {
      "text/plain": [
       "False"
      ]
     },
     "execution_count": 187,
     "metadata": {},
     "output_type": "execute_result"
    }
   ],
   "source": [
    "s.isalpha()"
   ]
  },
  {
   "cell_type": "code",
   "execution_count": 189,
   "id": "83b1d80d-db5c-45d0-b414-6967474d6686",
   "metadata": {},
   "outputs": [
    {
     "data": {
      "text/plain": [
       "True"
      ]
     },
     "execution_count": 189,
     "metadata": {},
     "output_type": "execute_result"
    }
   ],
   "source": [
    "s2.isalpha()"
   ]
  },
  {
   "cell_type": "code",
   "execution_count": 191,
   "id": "4f775948-8630-476d-8cbc-442d15c85e0b",
   "metadata": {},
   "outputs": [
    {
     "data": {
      "text/plain": [
       "False"
      ]
     },
     "execution_count": 191,
     "metadata": {},
     "output_type": "execute_result"
    }
   ],
   "source": [
    "s4.isnumeric()"
   ]
  },
  {
   "cell_type": "code",
   "execution_count": 193,
   "id": "7a949ead-ab2e-4811-ad16-8285173e7a3e",
   "metadata": {},
   "outputs": [
    {
     "data": {
      "text/plain": [
       "False"
      ]
     },
     "execution_count": 193,
     "metadata": {},
     "output_type": "execute_result"
    }
   ],
   "source": [
    "s6='4.22'\n",
    "s6.isnumeric()"
   ]
  },
  {
   "cell_type": "code",
   "execution_count": 195,
   "id": "c89c54a1-75fb-46d6-8c79-2ee34ed398c6",
   "metadata": {},
   "outputs": [
    {
     "data": {
      "text/plain": [
       "False"
      ]
     },
     "execution_count": 195,
     "metadata": {},
     "output_type": "execute_result"
    }
   ],
   "source": [
    "s6.isdecimal()"
   ]
  },
  {
   "cell_type": "code",
   "execution_count": 197,
   "id": "cfcea1fb-3c4e-44a6-8357-024997f2c60a",
   "metadata": {},
   "outputs": [
    {
     "data": {
      "text/plain": [
       "True"
      ]
     },
     "execution_count": 197,
     "metadata": {},
     "output_type": "execute_result"
    }
   ],
   "source": [
    "s6='12345'\n",
    "s6.isnumeric()"
   ]
  },
  {
   "cell_type": "code",
   "execution_count": 199,
   "id": "02aecbb9-a5f2-48c4-b5a0-7c1c389d4c94",
   "metadata": {},
   "outputs": [
    {
     "data": {
      "text/plain": [
       "True"
      ]
     },
     "execution_count": 199,
     "metadata": {},
     "output_type": "execute_result"
    }
   ],
   "source": [
    "s6.isdecimal()"
   ]
  },
  {
   "cell_type": "code",
   "execution_count": 201,
   "id": "3a1b9f6e-49ac-48cb-b633-5adef6d747bf",
   "metadata": {},
   "outputs": [
    {
     "data": {
      "text/plain": [
       "False"
      ]
     },
     "execution_count": 201,
     "metadata": {},
     "output_type": "execute_result"
    }
   ],
   "source": [
    "s.startswith(s2)"
   ]
  },
  {
   "cell_type": "code",
   "execution_count": 211,
   "id": "70b73194-1536-4322-864d-55e759ab3b5a",
   "metadata": {},
   "outputs": [
    {
     "data": {
      "text/plain": [
       "True"
      ]
     },
     "execution_count": 211,
     "metadata": {},
     "output_type": "execute_result"
    }
   ],
   "source": [
    "s='Ryuu'\n",
    "s1='Ryuu'\n",
    "s.startswith(s1)"
   ]
  },
  {
   "cell_type": "code",
   "execution_count": 213,
   "id": "77a6ef7b-e997-4195-b3d4-81b640711ae5",
   "metadata": {},
   "outputs": [
    {
     "data": {
      "text/plain": [
       "'1Ryuu2Ryuu3'"
      ]
     },
     "execution_count": 213,
     "metadata": {},
     "output_type": "execute_result"
    }
   ],
   "source": [
    "s.join('123')"
   ]
  },
  {
   "cell_type": "code",
   "execution_count": 219,
   "id": "50b96c91-7ebb-426b-b620-dea8259b545f",
   "metadata": {},
   "outputs": [
    {
     "data": {
      "text/plain": [
       "'1Ryuu X Akari2Ryuu X Akari3Ryuu X Akari4'"
      ]
     },
     "execution_count": 219,
     "metadata": {},
     "output_type": "execute_result"
    }
   ],
   "source": [
    "s='Ryuu X Akari'\n",
    "s.join('1234')"
   ]
  },
  {
   "cell_type": "code",
   "execution_count": 221,
   "id": "cdc8a026-8d21-47b5-93fc-408bbcefb464",
   "metadata": {},
   "outputs": [
    {
     "data": {
      "text/plain": [
       "'2Ryuu X Akari4'"
      ]
     },
     "execution_count": 221,
     "metadata": {},
     "output_type": "execute_result"
    }
   ],
   "source": [
    "s.join('24')"
   ]
  },
  {
   "cell_type": "code",
   "execution_count": 223,
   "id": "f18a26f6-6254-456c-946f-18e247ba7ed2",
   "metadata": {},
   "outputs": [
    {
     "data": {
      "text/plain": [
       "('ryuu', ',', 'akari')"
      ]
     },
     "execution_count": 223,
     "metadata": {},
     "output_type": "execute_result"
    }
   ],
   "source": [
    "s='ryuu,akari'\n",
    "s.partition(',')"
   ]
  },
  {
   "cell_type": "code",
   "execution_count": 229,
   "id": "3d0b5352-84b3-4dd6-879c-ac95bfda022e",
   "metadata": {},
   "outputs": [
    {
     "data": {
      "text/plain": [
       "('ryuu,akari', '', '')"
      ]
     },
     "execution_count": 229,
     "metadata": {},
     "output_type": "execute_result"
    }
   ],
   "source": [
    "s.partition('-')"
   ]
  },
  {
   "cell_type": "code",
   "execution_count": 231,
   "id": "1f08b887-95d2-4040-94f9-5dfe33189573",
   "metadata": {},
   "outputs": [
    {
     "data": {
      "text/plain": [
       "('ryuu', ',', 'akari')"
      ]
     },
     "execution_count": 231,
     "metadata": {},
     "output_type": "execute_result"
    }
   ],
   "source": [
    "s.rpartition(',')"
   ]
  },
  {
   "cell_type": "code",
   "execution_count": 243,
   "id": "1d094756-aee5-4a3c-8bb1-10e0baca320f",
   "metadata": {},
   "outputs": [
    {
     "data": {
      "text/plain": [
       "('ryuu, ml ', ',', ' akari')"
      ]
     },
     "execution_count": 243,
     "metadata": {},
     "output_type": "execute_result"
    }
   ],
   "source": [
    "s='ryuu, ml , akari'\n",
    "s.rpartition(',')"
   ]
  },
  {
   "cell_type": "code",
   "execution_count": 235,
   "id": "eecad8d9-65f5-4952-b52f-a979b91767e0",
   "metadata": {},
   "outputs": [
    {
     "ename": "AttributeError",
     "evalue": "'str' object has no attribute 'lpartition'",
     "output_type": "error",
     "traceback": [
      "\u001b[1;31m---------------------------------------------------------------------------\u001b[0m",
      "\u001b[1;31mAttributeError\u001b[0m                            Traceback (most recent call last)",
      "Cell \u001b[1;32mIn[235], line 1\u001b[0m\n\u001b[1;32m----> 1\u001b[0m s\u001b[38;5;241m.\u001b[39mlpartition(\u001b[38;5;124m'\u001b[39m\u001b[38;5;124m,\u001b[39m\u001b[38;5;124m'\u001b[39m)\n",
      "\u001b[1;31mAttributeError\u001b[0m: 'str' object has no attribute 'lpartition'"
     ]
    }
   ],
   "source": [
    "s.lpartition(',')"
   ]
  },
  {
   "cell_type": "code",
   "execution_count": 245,
   "id": "17138230-3c29-4b1b-b4d3-76d255893b53",
   "metadata": {},
   "outputs": [
    {
     "data": {
      "text/plain": [
       "['ryuu', ' ml ', ' akari']"
      ]
     },
     "execution_count": 245,
     "metadata": {},
     "output_type": "execute_result"
    }
   ],
   "source": [
    "s.rsplit(',',4)"
   ]
  },
  {
   "cell_type": "code",
   "execution_count": 249,
   "id": "5b3f8802-c6b8-4c49-a8df-7ece3ac0c66d",
   "metadata": {},
   "outputs": [
    {
     "data": {
      "text/plain": [
       "['ryuu', ' ml , akari']"
      ]
     },
     "execution_count": 249,
     "metadata": {},
     "output_type": "execute_result"
    }
   ],
   "source": [
    "s.split(',',1)"
   ]
  },
  {
   "cell_type": "code",
   "execution_count": 260,
   "id": "b8a20369-0a87-4dc3-85d9-d1fbe4344830",
   "metadata": {},
   "outputs": [],
   "source": [
    "s1='welcome \\n to \\n the \\n world'"
   ]
  },
  {
   "cell_type": "code",
   "execution_count": 262,
   "id": "6ee43f26-0c18-4b86-bcb2-1fcd4cc70bdb",
   "metadata": {},
   "outputs": [
    {
     "data": {
      "text/plain": [
       "['welcome ', ' to ', ' the ', ' world']"
      ]
     },
     "execution_count": 262,
     "metadata": {},
     "output_type": "execute_result"
    }
   ],
   "source": [
    "s1.splitlines() #The splitlines() method in Python splits a string into a list of lines, using newline characters as separators.\n",
    "                #In this case, the newline character \\n is used to separate the words \"welcome\", \"to\", \"the\", and \"world\"."
   ]
  },
  {
   "cell_type": "code",
   "execution_count": 264,
   "id": "59d86660-b359-44a3-9cc9-59eeea4a9d72",
   "metadata": {},
   "outputs": [
    {
     "data": {
      "text/plain": [
       "'yuu, ml '"
      ]
     },
     "execution_count": 264,
     "metadata": {},
     "output_type": "execute_result"
    }
   ],
   "source": [
    "s[1:9]"
   ]
  },
  {
   "cell_type": "code",
   "execution_count": 21,
   "id": "dc9cf24e-6521-4062-b82d-d27d372023ca",
   "metadata": {},
   "outputs": [],
   "source": [
    "s='I am Ryuu'\n",
    "s1='yuu'\n",
    "s2='Syuu'\n",
    "s3='nyuu'"
   ]
  },
  {
   "cell_type": "code",
   "execution_count": 23,
   "id": "c845fdea-3f3d-4b82-9d19-daa5dbd02489",
   "metadata": {},
   "outputs": [
    {
     "data": {
      "text/plain": [
       "True"
      ]
     },
     "execution_count": 23,
     "metadata": {},
     "output_type": "execute_result"
    }
   ],
   "source": [
    "s.endswith((s1,s2,s3))"
   ]
  },
  {
   "cell_type": "markdown",
   "id": "5366fe7a-0a4c-4d97-ba9e-034f53b1261a",
   "metadata": {},
   "source": [
    "The double parentheses ((s1, s2, s3)) are used to create a tuple containing the three strings s1, s2, and s3.\n",
    "\n",
    "The endswith() method expects a tuple or a single string as its argument. By enclosing the three strings in parentheses, we create a tuple that can be passed to the endswith() method.\n",
    "\n",
    "Here's a breakdown:\n",
    "\n",
    "Inner Parentheses (s1, s2, s3):\n",
    "\n",
    "This creates a tuple containing the three strings.\n",
    "Outer Parentheses ((s1, s2, s3)):\n",
    "\n",
    "This is necessary to pass the tuple as a single argument to the endswith() method.\n"
   ]
  },
  {
   "cell_type": "code",
   "execution_count": 33,
   "id": "b7380ecb-3bc9-413c-848d-ea9d25533f6d",
   "metadata": {},
   "outputs": [
    {
     "data": {
      "text/plain": [
       "True"
      ]
     },
     "execution_count": 33,
     "metadata": {},
     "output_type": "execute_result"
    }
   ],
   "source": [
    "s5='100'\n",
    "s5.isdigit()"
   ]
  },
  {
   "cell_type": "code",
   "execution_count": 37,
   "id": "71badeb0-b84e-4208-b3bc-009304ed99f3",
   "metadata": {},
   "outputs": [
    {
     "data": {
      "text/plain": [
       "True"
      ]
     },
     "execution_count": 37,
     "metadata": {},
     "output_type": "execute_result"
    }
   ],
   "source": [
    "s2='avb123'\n",
    "s2.isidentifier()"
   ]
  },
  {
   "cell_type": "code",
   "execution_count": 39,
   "id": "3ab2da21-2de5-47fa-a9c9-1ee4d6baedb5",
   "metadata": {},
   "outputs": [],
   "source": [
    "_s1=10\n"
   ]
  },
  {
   "cell_type": "code",
   "execution_count": 41,
   "id": "84f0e364-99b9-4ad5-810b-1d7c8e7f4b80",
   "metadata": {},
   "outputs": [
    {
     "data": {
      "text/plain": [
       "10"
      ]
     },
     "execution_count": 41,
     "metadata": {},
     "output_type": "execute_result"
    }
   ],
   "source": [
    "_s1"
   ]
  },
  {
   "cell_type": "code",
   "execution_count": 43,
   "id": "f807c921-8ace-4e02-8ddb-5229d3268e2d",
   "metadata": {},
   "outputs": [
    {
     "data": {
      "text/plain": [
       "True"
      ]
     },
     "execution_count": 43,
     "metadata": {},
     "output_type": "execute_result"
    }
   ],
   "source": [
    "s='HelloWorld'\n",
    "s.isprintable()"
   ]
  },
  {
   "cell_type": "code",
   "execution_count": 45,
   "id": "c3f18cac-508a-4849-967b-dcb8cab5a942",
   "metadata": {},
   "outputs": [
    {
     "data": {
      "text/plain": [
       "False"
      ]
     },
     "execution_count": 45,
     "metadata": {},
     "output_type": "execute_result"
    }
   ],
   "source": [
    "s='Hello\\tWorld'\n",
    "s.isprintable()"
   ]
  },
  {
   "cell_type": "code",
   "execution_count": 47,
   "id": "3f1999fc-715e-4422-9668-d33f1859e08f",
   "metadata": {},
   "outputs": [
    {
     "name": "stdout",
     "output_type": "stream",
     "text": [
      "Hello\n",
      "World!\n",
      "Hello\tWorld!\n",
      " new line.\n",
      "HellWorld!\n",
      "Page \f",
      "Feed\n",
      "This is a \\ backslash.\n",
      "He said, \"Hello, world!\".\n",
      "She said, 'Hello, world!'.\n"
     ]
    }
   ],
   "source": [
    "print(\"Hello\\nWorld!\")  # Output: Hello\n",
    "                         # World!\n",
    "\n",
    "print(\"Hello\\tWorld!\")  # Output: Hello   World!\n",
    "\n",
    "print(\"This is a \\r new line.\")  # Output: This is a  new line. (Carriage return moves the cursor to the beginning of the line)\n",
    "\n",
    "print(\"Hello\\bWorld!\")  # Output: HeloWorld! (Backspace removes the previous character)\n",
    "\n",
    "print(\"Page \\fFeed\")  # Output: (Form feed moves the cursor to the start of the next page, but it might not be visible in the console)\n",
    "\n",
    "print(\"This is a \\\\ backslash.\")  # Output: This is a \\ backslash.\n",
    "\n",
    "print(\"He said, \\\"Hello, world!\\\".\")  # Output: He said, \"Hello, world!\". (Using double quotes within a double-quoted string)\n",
    "\n",
    "print('She said, \\'Hello, world!\\'.')  # Output: She said, 'Hello, world!'. (Using single quotes within a single-quoted string)"
   ]
  },
  {
   "cell_type": "code",
   "execution_count": 49,
   "id": "b92962d6-f05c-4b73-b030-af170346cc3f",
   "metadata": {},
   "outputs": [
    {
     "data": {
      "text/plain": [
       "'AAAAAAAARyuuAAAAAAAA'"
      ]
     },
     "execution_count": 49,
     "metadata": {},
     "output_type": "execute_result"
    }
   ],
   "source": [
    "s='Ryuu'\n",
    "s.center(20,'A') #The s.center(width, pad) method in Python is used to center-align a string (s) within a specified width."
   ]
  },
  {
   "cell_type": "code",
   "execution_count": 51,
   "id": "ea404030-2441-4de5-a470-0ec45e55dea7",
   "metadata": {},
   "outputs": [
    {
     "data": {
      "text/plain": [
       "'R    Y    u    U'"
      ]
     },
     "execution_count": 51,
     "metadata": {},
     "output_type": "execute_result"
    }
   ],
   "source": [
    "s='R\\tY\\tu\\tU'\n",
    "\n",
    "s.expandtabs(5) #The s.expandtabs(integer) method in Python is used to expand tab characters (\\t) within a string into spaces.\n",
    "                #The integer argument specifies the number of spaces to use for each tab."
   ]
  },
  {
   "cell_type": "code",
   "execution_count": 53,
   "id": "74c38ee1-daee-4e42-9b25-8cfdf035e909",
   "metadata": {},
   "outputs": [],
   "source": [
    "s='    Ryuu    '"
   ]
  },
  {
   "cell_type": "code",
   "execution_count": 55,
   "id": "ef092371-3ed0-4932-8bc4-3774a1901fb8",
   "metadata": {},
   "outputs": [
    {
     "data": {
      "text/plain": [
       "'Ryuu    '"
      ]
     },
     "execution_count": 55,
     "metadata": {},
     "output_type": "execute_result"
    }
   ],
   "source": [
    "s.lstrip() #Remove leading whitespace from s"
   ]
  },
  {
   "cell_type": "code",
   "execution_count": 57,
   "id": "903d7a63-aa78-4346-ac57-079bc36044e3",
   "metadata": {},
   "outputs": [
    {
     "data": {
      "text/plain": [
       "'    Ryuu'"
      ]
     },
     "execution_count": 57,
     "metadata": {},
     "output_type": "execute_result"
    }
   ],
   "source": [
    "s.rstrip() #Remove trailing whitespace from s"
   ]
  },
  {
   "cell_type": "code",
   "execution_count": 59,
   "id": "ea6d8c10-e34e-45d6-b2ea-14d8ecf22d1f",
   "metadata": {},
   "outputs": [
    {
     "data": {
      "text/plain": [
       "'00000000    Ryuu    '"
      ]
     },
     "execution_count": 59,
     "metadata": {},
     "output_type": "execute_result"
    }
   ],
   "source": [
    "s.zfill(20) #The s.zfill(width) method in Python is used to pad a string with zeros on the left side until it reaches the specified width."
   ]
  },
  {
   "cell_type": "code",
   "execution_count": null,
   "id": "bd51a2f8-2c21-42e3-a04b-416b4705fc6b",
   "metadata": {},
   "outputs": [],
   "source": []
  }
 ],
 "metadata": {
  "kernelspec": {
   "display_name": "Python 3 (ipykernel)",
   "language": "python",
   "name": "python3"
  },
  "language_info": {
   "codemirror_mode": {
    "name": "ipython",
    "version": 3
   },
   "file_extension": ".py",
   "mimetype": "text/x-python",
   "name": "python",
   "nbconvert_exporter": "python",
   "pygments_lexer": "ipython3",
   "version": "3.12.7"
  }
 },
 "nbformat": 4,
 "nbformat_minor": 5
}
